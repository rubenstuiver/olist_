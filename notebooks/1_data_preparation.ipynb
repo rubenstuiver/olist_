{
 "cells": [
  {
   "cell_type": "markdown",
   "id": "029df75a",
   "metadata": {},
   "source": [
    "## import libraries "
   ]
  },
  {
   "cell_type": "code",
   "execution_count": 38,
   "id": "c0f98999",
   "metadata": {},
   "outputs": [
    {
     "name": "stdout",
     "output_type": "stream",
     "text": [
      "The autoreload extension is already loaded. To reload it, use:\n",
      "  %reload_ext autoreload\n"
     ]
    }
   ],
   "source": [
    "%load_ext autoreload\n",
    "%autoreload 2"
   ]
  },
  {
   "cell_type": "code",
   "execution_count": 85,
   "id": "98e0f284",
   "metadata": {},
   "outputs": [
    {
     "data": {
      "text/plain": [
       "'/Users/rubenstuiver/code/rubenstuiver/data-challenges/04-Decision-Science/01-Project-Setup/02-Data-Preparation'"
      ]
     },
     "execution_count": 85,
     "metadata": {},
     "output_type": "execute_result"
    }
   ],
   "source": [
    "import os\n",
    "import pandas as pd\n",
    "import numpy as np\n",
    "\n",
    "path = os.getcwd()\n",
    "path"
   ]
  },
  {
   "cell_type": "markdown",
   "id": "14c9c426",
   "metadata": {},
   "source": [
    "## Create the variable csv_path, which stores the path to your \"csv\" folder as a string\n",
    "\n",
    "- Create a relative csv_path"
   ]
  },
  {
   "cell_type": "code",
   "execution_count": 86,
   "id": "8b01101c",
   "metadata": {},
   "outputs": [
    {
     "data": {
      "text/plain": [
       "'../../data/csv'"
      ]
     },
     "execution_count": 86,
     "metadata": {},
     "output_type": "execute_result"
    }
   ],
   "source": [
    "csv_path = '../../data/csv' # Mac OS version\n",
    "csv_path = '..\\\\..\\\\data\\\\csv' # Windows version\n",
    "csv_path = os.path.join('..','..','data','csv') # more robust to Linux/OS/Windows discrepencies\n",
    "csv_path"
   ]
  },
  {
   "cell_type": "code",
   "execution_count": 87,
   "id": "c7c5588b",
   "metadata": {},
   "outputs": [
    {
     "data": {
      "text/html": [
       "<div>\n",
       "<style scoped>\n",
       "    .dataframe tbody tr th:only-of-type {\n",
       "        vertical-align: middle;\n",
       "    }\n",
       "\n",
       "    .dataframe tbody tr th {\n",
       "        vertical-align: top;\n",
       "    }\n",
       "\n",
       "    .dataframe thead th {\n",
       "        text-align: right;\n",
       "    }\n",
       "</style>\n",
       "<table border=\"1\" class=\"dataframe\">\n",
       "  <thead>\n",
       "    <tr style=\"text-align: right;\">\n",
       "      <th></th>\n",
       "      <th>seller_id</th>\n",
       "      <th>seller_zip_code_prefix</th>\n",
       "      <th>seller_city</th>\n",
       "      <th>seller_state</th>\n",
       "    </tr>\n",
       "  </thead>\n",
       "  <tbody>\n",
       "    <tr>\n",
       "      <th>0</th>\n",
       "      <td>3442f8959a84dea7ee197c632cb2df15</td>\n",
       "      <td>13023</td>\n",
       "      <td>campinas</td>\n",
       "      <td>SP</td>\n",
       "    </tr>\n",
       "    <tr>\n",
       "      <th>1</th>\n",
       "      <td>d1b65fc7debc3361ea86b5f14c68d2e2</td>\n",
       "      <td>13844</td>\n",
       "      <td>mogi guacu</td>\n",
       "      <td>SP</td>\n",
       "    </tr>\n",
       "    <tr>\n",
       "      <th>2</th>\n",
       "      <td>ce3ad9de960102d0677a81f5d0bb7b2d</td>\n",
       "      <td>20031</td>\n",
       "      <td>rio de janeiro</td>\n",
       "      <td>RJ</td>\n",
       "    </tr>\n",
       "    <tr>\n",
       "      <th>3</th>\n",
       "      <td>c0f3eea2e14555b6faeea3dd58c1b1c3</td>\n",
       "      <td>4195</td>\n",
       "      <td>sao paulo</td>\n",
       "      <td>SP</td>\n",
       "    </tr>\n",
       "    <tr>\n",
       "      <th>4</th>\n",
       "      <td>51a04a8a6bdcb23deccc82b0b80742cf</td>\n",
       "      <td>12914</td>\n",
       "      <td>braganca paulista</td>\n",
       "      <td>SP</td>\n",
       "    </tr>\n",
       "  </tbody>\n",
       "</table>\n",
       "</div>"
      ],
      "text/plain": [
       "                          seller_id  seller_zip_code_prefix  \\\n",
       "0  3442f8959a84dea7ee197c632cb2df15                   13023   \n",
       "1  d1b65fc7debc3361ea86b5f14c68d2e2                   13844   \n",
       "2  ce3ad9de960102d0677a81f5d0bb7b2d                   20031   \n",
       "3  c0f3eea2e14555b6faeea3dd58c1b1c3                    4195   \n",
       "4  51a04a8a6bdcb23deccc82b0b80742cf                   12914   \n",
       "\n",
       "         seller_city seller_state  \n",
       "0           campinas           SP  \n",
       "1         mogi guacu           SP  \n",
       "2     rio de janeiro           RJ  \n",
       "3          sao paulo           SP  \n",
       "4  braganca paulista           SP  "
      ]
     },
     "execution_count": 87,
     "metadata": {},
     "output_type": "execute_result"
    }
   ],
   "source": [
    "#check your code \n",
    "import pandas as pd\n",
    "pd.read_csv(os.path.join(csv_path, 'olist_sellers_dataset.csv')).head()"
   ]
  },
  {
   "cell_type": "markdown",
   "id": "7c8e3bf3",
   "metadata": {},
   "source": [
    "## Create the list file_names containing all csv file names in the csv directory\n",
    "\n",
    "- and delete all none csv files"
   ]
  },
  {
   "cell_type": "markdown",
   "id": "41c540ef",
   "metadata": {
    "scrolled": true
   },
   "source": [
    "this : file_names = os.listdir(csv_path)\n",
    "del file_names[3]\n",
    "\n",
    "or:"
   ]
  },
  {
   "cell_type": "code",
   "execution_count": 88,
   "id": "6550dbe2",
   "metadata": {},
   "outputs": [
    {
     "data": {
      "text/plain": [
       "['olist_sellers_dataset.csv',\n",
       " 'product_category_name_translation.csv',\n",
       " 'olist_orders_dataset.csv',\n",
       " 'olist_order_items_dataset.csv',\n",
       " 'olist_customers_dataset.csv',\n",
       " 'olist_geolocation_dataset.csv',\n",
       " 'olist_order_payments_dataset.csv',\n",
       " 'olist_order_reviews_dataset.csv',\n",
       " 'olist_products_dataset.csv']"
      ]
     },
     "execution_count": 88,
     "metadata": {},
     "output_type": "execute_result"
    }
   ],
   "source": [
    "file_names = [f for f in os.listdir(csv_path) if f.endswith('.csv')]\n",
    "file_names"
   ]
  },
  {
   "cell_type": "markdown",
   "id": "7e2b4d72",
   "metadata": {},
   "source": [
    "file_names = str(file_names).replace(\"_dataset\",\"\")\n",
    "file_names = str(file_names).replace(\"olist_\",\"\")\n",
    "file_names = str(file_names).replace(\".csv\",\"\")\n",
    "file_names"
   ]
  },
  {
   "cell_type": "code",
   "execution_count": 89,
   "id": "69720512",
   "metadata": {},
   "outputs": [
    {
     "data": {
      "text/plain": [
       "['sellers',\n",
       " 'product_category_name_translation',\n",
       " 'orders',\n",
       " 'order_items',\n",
       " 'customers',\n",
       " 'geolocation',\n",
       " 'order_payments',\n",
       " 'order_reviews',\n",
       " 'products']"
      ]
     },
     "execution_count": 89,
     "metadata": {},
     "output_type": "execute_result"
    }
   ],
   "source": [
    "key_names = [key_name\n",
    "    .replace('olist_','')\n",
    "    .replace('_dataset','')\n",
    "    .replace('.csv','')\n",
    "    for key_name in file_names]\n",
    "key_names"
   ]
  },
  {
   "cell_type": "code",
   "execution_count": null,
   "id": "02da8526",
   "metadata": {},
   "outputs": [],
   "source": []
  },
  {
   "cell_type": "code",
   "execution_count": 90,
   "id": "d8a16b7e",
   "metadata": {},
   "outputs": [],
   "source": [
    "## Create the list of dict key key_names"
   ]
  },
  {
   "cell_type": "code",
   "execution_count": 97,
   "id": "c04b845c",
   "metadata": {},
   "outputs": [
    {
     "data": {
      "text/plain": [
       "dict_keys(['sellers', 'product_category_name_translation', 'orders', 'order_items', 'customers', 'geolocation', 'order_payments', 'order_reviews', 'products'])"
      ]
     },
     "execution_count": 97,
     "metadata": {},
     "output_type": "execute_result"
    }
   ],
   "source": [
    "data = {}\n",
    "for k,f in zip(key_names, file_names):\n",
    "    data[k] = pd.read_csv(os.path.join(csv_path, f))\n",
    "data.keys()"
   ]
  },
  {
   "cell_type": "code",
   "execution_count": null,
   "id": "dd83ab6d",
   "metadata": {},
   "outputs": [],
   "source": []
  },
  {
   "cell_type": "markdown",
   "id": "74fb941c",
   "metadata": {},
   "source": [
    "##  Implement the method get_data() in olist/data.py\n"
   ]
  },
  {
   "cell_type": "code",
   "execution_count": 98,
   "id": "928c3157",
   "metadata": {},
   "outputs": [
    {
     "data": {
      "text/plain": [
       "'/Users/rubenstuiver/code/rubenstuiver/data-challenges/04-Decision-Science/01-Project-Setup/02-Data-Preparation'"
      ]
     },
     "execution_count": 98,
     "metadata": {},
     "output_type": "execute_result"
    }
   ],
   "source": [
    "os.getcwd()"
   ]
  },
  {
   "cell_type": "code",
   "execution_count": null,
   "id": "2403d258",
   "metadata": {},
   "outputs": [],
   "source": []
  },
  {
   "cell_type": "code",
   "execution_count": null,
   "id": "8ea6f0d7",
   "metadata": {},
   "outputs": [],
   "source": [
    "\n"
   ]
  },
  {
   "cell_type": "code",
   "execution_count": null,
   "id": "5bcf9258",
   "metadata": {},
   "outputs": [],
   "source": []
  },
  {
   "cell_type": "code",
   "execution_count": 101,
   "id": "1a3ea602",
   "metadata": {},
   "outputs": [
    {
     "name": "stdout",
     "output_type": "stream",
     "text": [
      "\u001b[1m============================= test session starts ==============================\u001b[0m\n",
      "platform darwin -- Python 3.8.13, pytest-6.2.5, py-1.11.0, pluggy-1.0.0 -- /Users/rubenstuiver/.pyenv/versions/lewagon/bin/python3\n",
      "cachedir: .pytest_cache\n",
      "rootdir: /Users/rubenstuiver/code/rubenstuiver/data-challenges/04-Decision-Science/01-Project-Setup/02-Data-Preparation\n",
      "plugins: anyio-3.4.0\n",
      "\u001b[1mcollecting ... \u001b[0mcollected 3 items\n",
      "\n",
      "tests/test_get_data.py::TestGetData::test_columns \u001b[32mPASSED\u001b[0m\u001b[32m                 [ 33%]\u001b[0m\n",
      "tests/test_get_data.py::TestGetData::test_keys \u001b[32mPASSED\u001b[0m\u001b[32m                    [ 66%]\u001b[0m\n",
      "tests/test_get_data.py::TestGetData::test_len \u001b[32mPASSED\u001b[0m\u001b[32m                     [100%]\u001b[0m\n",
      "\n",
      "\u001b[32m============================== \u001b[32m\u001b[1m3 passed\u001b[0m\u001b[32m in 0.02s\u001b[0m\u001b[32m ===============================\u001b[0m\n",
      "\n",
      "\n",
      "💯 You can commit your code:\n",
      "\n",
      "\u001b[1;32mgit\u001b[39m add tests/get_data.pickle\n",
      "\n",
      "\u001b[32mgit\u001b[39m commit -m \u001b[33m'Completed get_data step'\u001b[39m\n",
      "\n",
      "\u001b[32mgit\u001b[39m push origin master\n"
     ]
    }
   ],
   "source": [
    "from nbresult import ChallengeResult\n",
    "from olist.data import Olist\n",
    "data = Olist().get_data()\n",
    "result = ChallengeResult('get_data',\n",
    "    keys_len=len(data),\n",
    "    keys=sorted(list(data.keys())),\n",
    "    columns=sorted(list(data['sellers'].columns))\n",
    "    )\n",
    "result.write()\n",
    "print(result.check())"
   ]
  },
  {
   "cell_type": "code",
   "execution_count": 102,
   "id": "1673c4a0",
   "metadata": {},
   "outputs": [
    {
     "data": {
      "text/html": [
       "<div>\n",
       "<style scoped>\n",
       "    .dataframe tbody tr th:only-of-type {\n",
       "        vertical-align: middle;\n",
       "    }\n",
       "\n",
       "    .dataframe tbody tr th {\n",
       "        vertical-align: top;\n",
       "    }\n",
       "\n",
       "    .dataframe thead th {\n",
       "        text-align: right;\n",
       "    }\n",
       "</style>\n",
       "<table border=\"1\" class=\"dataframe\">\n",
       "  <thead>\n",
       "    <tr style=\"text-align: right;\">\n",
       "      <th></th>\n",
       "      <th>seller_id</th>\n",
       "      <th>seller_zip_code_prefix</th>\n",
       "      <th>seller_city</th>\n",
       "      <th>seller_state</th>\n",
       "    </tr>\n",
       "  </thead>\n",
       "  <tbody>\n",
       "    <tr>\n",
       "      <th>0</th>\n",
       "      <td>3442f8959a84dea7ee197c632cb2df15</td>\n",
       "      <td>13023</td>\n",
       "      <td>campinas</td>\n",
       "      <td>SP</td>\n",
       "    </tr>\n",
       "    <tr>\n",
       "      <th>1</th>\n",
       "      <td>d1b65fc7debc3361ea86b5f14c68d2e2</td>\n",
       "      <td>13844</td>\n",
       "      <td>mogi guacu</td>\n",
       "      <td>SP</td>\n",
       "    </tr>\n",
       "    <tr>\n",
       "      <th>2</th>\n",
       "      <td>ce3ad9de960102d0677a81f5d0bb7b2d</td>\n",
       "      <td>20031</td>\n",
       "      <td>rio de janeiro</td>\n",
       "      <td>RJ</td>\n",
       "    </tr>\n",
       "    <tr>\n",
       "      <th>3</th>\n",
       "      <td>c0f3eea2e14555b6faeea3dd58c1b1c3</td>\n",
       "      <td>4195</td>\n",
       "      <td>sao paulo</td>\n",
       "      <td>SP</td>\n",
       "    </tr>\n",
       "    <tr>\n",
       "      <th>4</th>\n",
       "      <td>51a04a8a6bdcb23deccc82b0b80742cf</td>\n",
       "      <td>12914</td>\n",
       "      <td>braganca paulista</td>\n",
       "      <td>SP</td>\n",
       "    </tr>\n",
       "  </tbody>\n",
       "</table>\n",
       "</div>"
      ],
      "text/plain": [
       "                          seller_id  seller_zip_code_prefix  \\\n",
       "0  3442f8959a84dea7ee197c632cb2df15                   13023   \n",
       "1  d1b65fc7debc3361ea86b5f14c68d2e2                   13844   \n",
       "2  ce3ad9de960102d0677a81f5d0bb7b2d                   20031   \n",
       "3  c0f3eea2e14555b6faeea3dd58c1b1c3                    4195   \n",
       "4  51a04a8a6bdcb23deccc82b0b80742cf                   12914   \n",
       "\n",
       "         seller_city seller_state  \n",
       "0           campinas           SP  \n",
       "1         mogi guacu           SP  \n",
       "2     rio de janeiro           RJ  \n",
       "3          sao paulo           SP  \n",
       "4  braganca paulista           SP  "
      ]
     },
     "execution_count": 102,
     "metadata": {},
     "output_type": "execute_result"
    }
   ],
   "source": [
    "from olist.data import Olist\n",
    "Olist().get_data()['sellers'].head()"
   ]
  },
  {
   "cell_type": "code",
   "execution_count": null,
   "id": "7f963d45",
   "metadata": {},
   "outputs": [],
   "source": []
  },
  {
   "cell_type": "code",
   "execution_count": null,
   "id": "e49ed3e2",
   "metadata": {},
   "outputs": [],
   "source": []
  }
 ],
 "metadata": {
  "kernelspec": {
   "display_name": "Python 3 (ipykernel)",
   "language": "python",
   "name": "python3"
  },
  "language_info": {
   "codemirror_mode": {
    "name": "ipython",
    "version": 3
   },
   "file_extension": ".py",
   "mimetype": "text/x-python",
   "name": "python",
   "nbconvert_exporter": "python",
   "pygments_lexer": "ipython3",
   "version": "3.8.13"
  },
  "toc": {
   "base_numbering": 1,
   "nav_menu": {},
   "number_sections": true,
   "sideBar": true,
   "skip_h1_title": false,
   "title_cell": "Table of Contents",
   "title_sidebar": "Contents",
   "toc_cell": false,
   "toc_position": {},
   "toc_section_display": true,
   "toc_window_display": false
  }
 },
 "nbformat": 4,
 "nbformat_minor": 5
}
